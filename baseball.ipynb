{
 "cells": [
  {
   "cell_type": "code",
   "execution_count": null,
   "id": "12",
   "metadata": {},
   "outputs": [],
   "source": [
    "import httpx\n",
    "import ssl\n",
    "\n",
    "url = \"https://wwwnew.kweather.co.kr/forecast/data/lifestyle/27230510.xml\"\n",
    "\n",
    "# SSL 설정: 보안 수준 낮춤\n",
    "context = ssl.create_default_context()\n",
    "context.set_ciphers(\"DEFAULT:@SECLEVEL=1\")  # 보안 레벨 1로 낮춤\n",
    "\n",
    "try:\n",
    "    with httpx.Client(verify=context, timeout=10.0) as client:\n",
    "        response = client.get(url)\n",
    "        response.encoding = 'utf-8'\n",
    "        print(response.text)\n",
    "except Exception as e:\n",
    "    print(f\"Error: {e}\")\n"
   ]
  },
  {
   "cell_type": "code",
   "execution_count": null,
   "id": "9d6d5f5d",
   "metadata": {},
   "outputs": [],
   "source": [
    "import httpx\n",
    "import ssl\n",
    "\n",
    "field_list = ['48160720','27230510']\n",
    "\n",
    "for code in field_list:\n",
    "    url = f\"https://wwwnew.kweather.co.kr/forecast/data/lifestyle/{code}.xml\"\n",
    "\n",
    "    # SSL 설정: 보안 수준 낮춤\n",
    "    context = ssl.create_default_context()\n",
    "    context.set_ciphers(\"DEFAULT:@SECLEVEL=1\")  # 보안 레벨 1로 낮춤\n",
    "\n",
    "    try:\n",
    "        with httpx.Client(verify=context, timeout=10.0) as client:\n",
    "            response = client.get(url)\n",
    "            response.encoding = 'utf-8'\n",
    "            print(response.text)\n",
    "            print('끝----------------------------')\n",
    "    except Exception as e:\n",
    "        print(f\"Error: {e}\")"
   ]
  }
 ],
 "metadata": {
  "kernelspec": {
   "display_name": "base",
   "language": "python",
   "name": "python3"
  },
  "language_info": {
   "codemirror_mode": {
    "name": "ipython",
    "version": 3
   },
   "file_extension": ".py",
   "mimetype": "text/x-python",
   "name": "python",
   "nbconvert_exporter": "python",
   "pygments_lexer": "ipython3",
   "version": "3.12.7"
  }
 },
 "nbformat": 4,
 "nbformat_minor": 5
}
