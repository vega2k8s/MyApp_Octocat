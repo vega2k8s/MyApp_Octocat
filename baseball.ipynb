{
 "cells": [
  {
   "cell_type": "code",
   "execution_count": null,
   "id": "12",
   "metadata": {},
   "outputs": [],
   "source": [
    "import httpx\n",
    "import ssl\n",
    "\n",
    "url = \"https://wwwnew.kweather.co.kr/forecast/data/lifestyle/27230510.xml\"\n",
    "\n",
    "# SSL 설정: 보안 수준 낮춤\n",
    "context = ssl.create_default_context()\n",
    "context.set_ciphers(\"DEFAULT:@SECLEVEL=1\")  # 보안 레벨 1로 낮춤\n",
    "\n",
    "try:\n",
    "    with httpx.Client(verify=context, timeout=10.0) as client:\n",
    "        response = client.get(url)\n",
    "        response.encoding = 'utf-8'\n",
    "        print(response.text)\n",
    "except Exception as e:\n",
    "    print(f\"Error: {e}\")\n"
   ]
  },
  {
   "cell_type": "code",
   "execution_count": null,
   "id": "9d6d5f5d",
   "metadata": {},
   "outputs": [],
   "source": [
    "import httpx\n",
    "import ssl\n",
    "from bs4 import BeautifulSoup\n",
    "\n",
    "field_list = ['48160720','27230510']\n",
    "\n",
    "for code in field_list:\n",
    "    url = f\"https://wwwnew.kweather.co.kr/forecast/data/lifestyle/{code}.xml\"\n",
    "\n",
    "    # SSL 설정: 보안 수준 낮춤\n",
    "    context = ssl.create_default_context()\n",
    "    context.set_ciphers(\"DEFAULT:@SECLEVEL=1\")  # 보안 레벨 1로 낮춤\n",
    "\n",
    "    try:\n",
    "        with httpx.Client(verify=context, timeout=10.0) as client:\n",
    "            response = client.get(url)\n",
    "            response.encoding = 'utf-8'\n",
    "            #print(response.text)\n",
    "            soup = BeautifulSoup(response.text, features='xml')\n",
    "            print('------')\n",
    "            \n",
    "            weather_dict = {}\n",
    "            weather_dict['areaName1'] = soup.find('areaName1').text\n",
    "            \n",
    "            day1 = soup.find('day')\n",
    "            weather_dict['applyDate'] = day1.find('applyDate').text\n",
    "            weather_dict['weather'] = day1.find('weather').text\n",
    "            \n",
    "            for hour1 in day1.find_all('hour'):\n",
    "                print(hour1.find('time'))\n",
    "                \n",
    "            print(weather_dict)\n",
    "            \n",
    "    except Exception as e:\n",
    "        print(f\"Error: {e}\")"
   ]
  }
 ],
 "metadata": {
  "kernelspec": {
   "display_name": "base",
   "language": "python",
   "name": "python3"
  },
  "language_info": {
   "codemirror_mode": {
    "name": "ipython",
    "version": 3
   },
   "file_extension": ".py",
   "mimetype": "text/x-python",
   "name": "python",
   "nbconvert_exporter": "python",
   "pygments_lexer": "ipython3",
   "version": "3.12.7"
  }
 },
 "nbformat": 4,
 "nbformat_minor": 5
}
